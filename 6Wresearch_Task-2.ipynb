{
 "cells": [
  {
   "cell_type": "markdown",
   "id": "15ed067c",
   "metadata": {},
   "source": [
    "## Objectives\n",
    "\n",
    "Note: Product Description is the common column between import sheet and data bank sheet.\n",
    "Objective – model number and brand name columns are required in import sheet. Create a column where % match (eg 100% or 50%, etc.) between product description column of both table is represented with their percentage match.\n",
    "\n",
    "Task 1 – Return Brand Name and Model Name in import table from Data bank table where product description of import file is 100% match with product description of Data Bank. \n",
    "\n",
    "Task 2 - Return Brand Name and Model name column in import table from Data bank table where product description of import file is up to 90% match with product description of Data Bank. (Consider only those product descriptions of import table for which Brand Name and Model name column is not returned in task 1).\n",
    "Task 3 – For rest rows of import table where Brand Name and Model name column is not returned from task1 and task 2, find Brand Name from ‘Shipper Name’ column and find it in Brand table.\n",
    "Do necessary Data cleaning before doing tasks.\n",
    "\t\t\t\t\t\t\t\t\t\t\t\t\n",
    "\t\t\t\t\t\t\t\t\t\t\t\t\t\t\t\n",
    "\t\t\t\t\t\t\t\t\t\t\t\t\t\t\t\n",
    "\t\t\t\t\t\t\t\t\t\t\t\t\t\t\t"
   ]
  },
  {
   "cell_type": "code",
   "execution_count": 3,
   "id": "4f0848aa",
   "metadata": {},
   "outputs": [
    {
     "name": "stderr",
     "output_type": "stream",
     "text": [
      "C:\\Users\\Satish\\Anaconda3\\lib\\site-packages\\fuzzywuzzy\\fuzz.py:11: UserWarning: Using slow pure-python SequenceMatcher. Install python-Levenshtein to remove this warning\n",
      "  warnings.warn('Using slow pure-python SequenceMatcher. Install python-Levenshtein to remove this warning')\n"
     ]
    }
   ],
   "source": [
    "import numpy as np\n",
    "from scipy.stats import t\n",
    "import matplotlib.pyplot as plt\n",
    "import plotly.express as px\n",
    "\n",
    "import pandas as pd\n",
    "from fuzzywuzzy import fuzz\n",
    "from fuzzywuzzy import process"
   ]
  },
  {
   "cell_type": "code",
   "execution_count": 2,
   "id": "2e349919",
   "metadata": {},
   "outputs": [
    {
     "name": "stdout",
     "output_type": "stream",
     "text": [
      "Collecting fuzzywuzzyNote: you may need to restart the kernel to use updated packages.\n",
      "\n",
      "  Using cached fuzzywuzzy-0.18.0-py2.py3-none-any.whl (18 kB)\n",
      "Installing collected packages: fuzzywuzzy\n",
      "Successfully installed fuzzywuzzy-0.18.0\n"
     ]
    }
   ],
   "source": [
    "pip install fuzzywuzzy"
   ]
  },
  {
   "cell_type": "code",
   "execution_count": 6,
   "id": "08d2a258",
   "metadata": {},
   "outputs": [],
   "source": [
    "data_bank_file = \"data bank.xlsx\"\n",
    "import_file = \"import.xlsx\"\n",
    "data_bank_df = pd.read_excel(data_bank_file, engine=\"openpyxl\")\n",
    "import_df = pd.read_excel(import_file, engine=\"openpyxl\")\n"
   ]
  },
  {
   "cell_type": "code",
   "execution_count": 12,
   "id": "079e0150",
   "metadata": {},
   "outputs": [
    {
     "data": {
      "text/html": [
       "<div>\n",
       "<style scoped>\n",
       "    .dataframe tbody tr th:only-of-type {\n",
       "        vertical-align: middle;\n",
       "    }\n",
       "\n",
       "    .dataframe tbody tr th {\n",
       "        vertical-align: top;\n",
       "    }\n",
       "\n",
       "    .dataframe thead th {\n",
       "        text-align: right;\n",
       "    }\n",
       "</style>\n",
       "<table border=\"1\" class=\"dataframe\">\n",
       "  <thead>\n",
       "    <tr style=\"text-align: right;\">\n",
       "      <th></th>\n",
       "      <th>Product Description</th>\n",
       "      <th>Brand Name</th>\n",
       "      <th>Model Name</th>\n",
       "    </tr>\n",
       "  </thead>\n",
       "  <tbody>\n",
       "    <tr>\n",
       "      <th>0</th>\n",
       "      <td>16641210 FUJINON LENS F XF16MMF1.4 R WR PH</td>\n",
       "      <td>Fujifilm</td>\n",
       "      <td>XF16 mm</td>\n",
       "    </tr>\n",
       "    <tr>\n",
       "      <th>2</th>\n",
       "      <td>16792576 FUJINON LENS F XF30MMF2.8 R LM WR MC TH</td>\n",
       "      <td>Fujifilm</td>\n",
       "      <td>XF30 mm</td>\n",
       "    </tr>\n",
       "    <tr>\n",
       "      <th>10</th>\n",
       "      <td>16780028 FUJINON LENS F XF56MMF1.2 R WR TH</td>\n",
       "      <td>Fujifilm</td>\n",
       "      <td>F XF56 mm</td>\n",
       "    </tr>\n",
       "    <tr>\n",
       "      <th>106</th>\n",
       "      <td>16607446 FUJINON LENS XF55-200MMF3.5-4.8 R LM ...</td>\n",
       "      <td>Fujifilm</td>\n",
       "      <td>XF55-200 mm</td>\n",
       "    </tr>\n",
       "    <tr>\n",
       "      <th>122</th>\n",
       "      <td>5137C012AA EOS R7 RFS18150mm WIFI# DS126841 BI...</td>\n",
       "      <td>Canon</td>\n",
       "      <td>EOS R7</td>\n",
       "    </tr>\n",
       "    <tr>\n",
       "      <th>...</th>\n",
       "      <td>...</td>\n",
       "      <td>...</td>\n",
       "      <td>...</td>\n",
       "    </tr>\n",
       "    <tr>\n",
       "      <th>2795</th>\n",
       "      <td>32852720 ZV-E10/BQ IN5 DIGITAL STILL CAMERA ZV...</td>\n",
       "      <td>Sony</td>\n",
       "      <td>ZV-E10</td>\n",
       "    </tr>\n",
       "    <tr>\n",
       "      <th>2796</th>\n",
       "      <td>ILCE-7M3/BQ IN5 32850420 DIGITAL STILL CAMERA ...</td>\n",
       "      <td>Sony</td>\n",
       "      <td>ILCE-7M3</td>\n",
       "    </tr>\n",
       "    <tr>\n",
       "      <th>2797</th>\n",
       "      <td>ZV-E10/BQ IN5 32852720 DIGITAL STILL CAMERA WW...</td>\n",
       "      <td>Sony</td>\n",
       "      <td>ZV-E10</td>\n",
       "    </tr>\n",
       "    <tr>\n",
       "      <th>2798</th>\n",
       "      <td>SRG-X120/BC IN5 32495790 COLOR CMOS TELEVISION...</td>\n",
       "      <td>Sony</td>\n",
       "      <td>SRG-X120/BC</td>\n",
       "    </tr>\n",
       "    <tr>\n",
       "      <th>2800</th>\n",
       "      <td>HDC3500/L5 UCJ 43648285 COLOR CMOS PORTABLE TE...</td>\n",
       "      <td>Sony</td>\n",
       "      <td>HDC3500/L4 UCJ</td>\n",
       "    </tr>\n",
       "  </tbody>\n",
       "</table>\n",
       "<p>409 rows × 3 columns</p>\n",
       "</div>"
      ],
      "text/plain": [
       "                                    Product Description Brand Name  \\\n",
       "0           16641210 FUJINON LENS F XF16MMF1.4 R WR PH    Fujifilm   \n",
       "2     16792576 FUJINON LENS F XF30MMF2.8 R LM WR MC TH    Fujifilm   \n",
       "10          16780028 FUJINON LENS F XF56MMF1.2 R WR TH    Fujifilm   \n",
       "106   16607446 FUJINON LENS XF55-200MMF3.5-4.8 R LM ...   Fujifilm   \n",
       "122   5137C012AA EOS R7 RFS18150mm WIFI# DS126841 BI...      Canon   \n",
       "...                                                 ...        ...   \n",
       "2795  32852720 ZV-E10/BQ IN5 DIGITAL STILL CAMERA ZV...       Sony   \n",
       "2796  ILCE-7M3/BQ IN5 32850420 DIGITAL STILL CAMERA ...       Sony   \n",
       "2797  ZV-E10/BQ IN5 32852720 DIGITAL STILL CAMERA WW...       Sony   \n",
       "2798  SRG-X120/BC IN5 32495790 COLOR CMOS TELEVISION...       Sony   \n",
       "2800  HDC3500/L5 UCJ 43648285 COLOR CMOS PORTABLE TE...       Sony   \n",
       "\n",
       "          Model Name  \n",
       "0            XF16 mm  \n",
       "2            XF30 mm  \n",
       "10         F XF56 mm  \n",
       "106      XF55-200 mm  \n",
       "122           EOS R7  \n",
       "...              ...  \n",
       "2795          ZV-E10  \n",
       "2796        ILCE-7M3  \n",
       "2797          ZV-E10  \n",
       "2798     SRG-X120/BC  \n",
       "2800  HDC3500/L4 UCJ  \n",
       "\n",
       "[409 rows x 3 columns]"
      ]
     },
     "execution_count": 12,
     "metadata": {},
     "output_type": "execute_result"
    }
   ],
   "source": [
    "# Task 1: Exact 100% Match\n",
    "exact_matches = pd.merge(import_df, data_bank_df, on=\"Product Description\", how=\"inner\")[[\"Product Description\",\"Brand Name\", \"Model Name\"]]\n",
    "task1_results = exact_matches.drop_duplicates()\n",
    "task1_results"
   ]
  },
  {
   "cell_type": "code",
   "execution_count": null,
   "id": "34c60461",
   "metadata": {},
   "outputs": [],
   "source": [
    "# Task 2: Up to 90% Match\n",
    "remaining_import_df = import_df[~import_df[\"Product Description\"].isin(task1_results[\"Product Description\"])]\n",
    "\n",
    "similar_matches = []\n",
    "\n",
    "for import_desc in remaining_import_df[\"Product Description\"]:\n",
    "    # Finding the best match with a similarity score >= 90%\n",
    "    _ , match, score = process.extractOne(import_desc, data_bank_df[\"Product Description\"], scorer=fuzz.token_sort_ratio)\n",
    "    if score >= 90:\n",
    "        matched_row = data_bank_df[data_bank_df[\"Product Description\"] == match][[\"Brand Name\", \"Model Name\"]]\n",
    "        similar_matches.append(matched_row)\n",
    "\n",
    "# Concatenate the matched rows\n",
    "task2_results = pd.concat(similar_matches)\n",
    "\n",
    "# Task 3: Find Brand Name from 'Shipper Name'\n",
    "remaining_import_df[\"Brand Name\"] = remaining_import_df[\"Shipper Name\"].apply(lambda shipper: process.extractOne(shipper, brand_df[\"Brand Name\"], scorer=fuzz.token_sort_ratio)[0])\n",
    "\n",
    "# Assuming the 'Brand' table is available in the 'brand_df' dataframe\n",
    "# Replace 'brand_df' with the actual dataframe containing the 'Brand' table\n",
    "\n",
    "# Concatenate the results of all tasks\n",
    "final_results = pd.concat([task1_results, task2_results, remaining_import_df[[\"Brand Name\", \"Model Name\"]]])\n",
    "\n",
    "# Save the final results to a new Excel file\n",
    "final_results.to_excel(\"Final_Results.xlsx\", index=False, engine=\"openpyxl\")\n"
   ]
  },
  {
   "cell_type": "code",
   "execution_count": null,
   "id": "ff8cdfb8",
   "metadata": {},
   "outputs": [],
   "source": []
  },
  {
   "cell_type": "code",
   "execution_count": 2,
   "id": "3f830ec9",
   "metadata": {},
   "outputs": [
    {
     "ename": "KeyError",
     "evalue": "'Product Description'",
     "output_type": "error",
     "traceback": [
      "\u001b[1;31m---------------------------------------------------------------------------\u001b[0m",
      "\u001b[1;31mKeyError\u001b[0m                                  Traceback (most recent call last)",
      "\u001b[1;32m~\\Anaconda3\\lib\\site-packages\\pandas\\core\\indexes\\base.py\u001b[0m in \u001b[0;36mget_loc\u001b[1;34m(self, key, method, tolerance)\u001b[0m\n\u001b[0;32m   3628\u001b[0m             \u001b[1;32mtry\u001b[0m\u001b[1;33m:\u001b[0m\u001b[1;33m\u001b[0m\u001b[1;33m\u001b[0m\u001b[0m\n\u001b[1;32m-> 3629\u001b[1;33m                 \u001b[1;32mreturn\u001b[0m \u001b[0mself\u001b[0m\u001b[1;33m.\u001b[0m\u001b[0m_engine\u001b[0m\u001b[1;33m.\u001b[0m\u001b[0mget_loc\u001b[0m\u001b[1;33m(\u001b[0m\u001b[0mcasted_key\u001b[0m\u001b[1;33m)\u001b[0m\u001b[1;33m\u001b[0m\u001b[1;33m\u001b[0m\u001b[0m\n\u001b[0m\u001b[0;32m   3630\u001b[0m             \u001b[1;32mexcept\u001b[0m \u001b[0mKeyError\u001b[0m \u001b[1;32mas\u001b[0m \u001b[0merr\u001b[0m\u001b[1;33m:\u001b[0m\u001b[1;33m\u001b[0m\u001b[1;33m\u001b[0m\u001b[0m\n",
      "\u001b[1;32m~\\Anaconda3\\lib\\site-packages\\pandas\\_libs\\index.pyx\u001b[0m in \u001b[0;36mpandas._libs.index.IndexEngine.get_loc\u001b[1;34m()\u001b[0m\n",
      "\u001b[1;32m~\\Anaconda3\\lib\\site-packages\\pandas\\_libs\\index.pyx\u001b[0m in \u001b[0;36mpandas._libs.index.IndexEngine.get_loc\u001b[1;34m()\u001b[0m\n",
      "\u001b[1;32mpandas\\_libs\\hashtable_class_helper.pxi\u001b[0m in \u001b[0;36mpandas._libs.hashtable.PyObjectHashTable.get_item\u001b[1;34m()\u001b[0m\n",
      "\u001b[1;32mpandas\\_libs\\hashtable_class_helper.pxi\u001b[0m in \u001b[0;36mpandas._libs.hashtable.PyObjectHashTable.get_item\u001b[1;34m()\u001b[0m\n",
      "\u001b[1;31mKeyError\u001b[0m: 'Product Description'",
      "\nThe above exception was the direct cause of the following exception:\n",
      "\u001b[1;31mKeyError\u001b[0m                                  Traceback (most recent call last)",
      "\u001b[1;32m~\\AppData\\Local\\Temp\\ipykernel_25896\\3990228344.py\u001b[0m in \u001b[0;36m<module>\u001b[1;34m\u001b[0m\n\u001b[0;32m     11\u001b[0m \u001b[1;33m\u001b[0m\u001b[0m\n\u001b[0;32m     12\u001b[0m \u001b[1;31m# Task 2: Up to 90% Match\u001b[0m\u001b[1;33m\u001b[0m\u001b[1;33m\u001b[0m\u001b[0m\n\u001b[1;32m---> 13\u001b[1;33m \u001b[0mremaining_import_df\u001b[0m \u001b[1;33m=\u001b[0m \u001b[0mimport_df\u001b[0m\u001b[1;33m[\u001b[0m\u001b[1;33m~\u001b[0m\u001b[0mimport_df\u001b[0m\u001b[1;33m[\u001b[0m\u001b[1;34m\"Product Description\"\u001b[0m\u001b[1;33m]\u001b[0m\u001b[1;33m.\u001b[0m\u001b[0misin\u001b[0m\u001b[1;33m(\u001b[0m\u001b[0mtask1_results\u001b[0m\u001b[1;33m[\u001b[0m\u001b[1;34m\"Product Description\"\u001b[0m\u001b[1;33m]\u001b[0m\u001b[1;33m)\u001b[0m\u001b[1;33m]\u001b[0m\u001b[1;33m\u001b[0m\u001b[1;33m\u001b[0m\u001b[0m\n\u001b[0m\u001b[0;32m     14\u001b[0m \u001b[1;33m\u001b[0m\u001b[0m\n\u001b[0;32m     15\u001b[0m \u001b[1;31m# Finding the best match with a similarity score >= 90% for each \"Product Description\"\u001b[0m\u001b[1;33m\u001b[0m\u001b[1;33m\u001b[0m\u001b[0m\n",
      "\u001b[1;32m~\\Anaconda3\\lib\\site-packages\\pandas\\core\\frame.py\u001b[0m in \u001b[0;36m__getitem__\u001b[1;34m(self, key)\u001b[0m\n\u001b[0;32m   3503\u001b[0m             \u001b[1;32mif\u001b[0m \u001b[0mself\u001b[0m\u001b[1;33m.\u001b[0m\u001b[0mcolumns\u001b[0m\u001b[1;33m.\u001b[0m\u001b[0mnlevels\u001b[0m \u001b[1;33m>\u001b[0m \u001b[1;36m1\u001b[0m\u001b[1;33m:\u001b[0m\u001b[1;33m\u001b[0m\u001b[1;33m\u001b[0m\u001b[0m\n\u001b[0;32m   3504\u001b[0m                 \u001b[1;32mreturn\u001b[0m \u001b[0mself\u001b[0m\u001b[1;33m.\u001b[0m\u001b[0m_getitem_multilevel\u001b[0m\u001b[1;33m(\u001b[0m\u001b[0mkey\u001b[0m\u001b[1;33m)\u001b[0m\u001b[1;33m\u001b[0m\u001b[1;33m\u001b[0m\u001b[0m\n\u001b[1;32m-> 3505\u001b[1;33m             \u001b[0mindexer\u001b[0m \u001b[1;33m=\u001b[0m \u001b[0mself\u001b[0m\u001b[1;33m.\u001b[0m\u001b[0mcolumns\u001b[0m\u001b[1;33m.\u001b[0m\u001b[0mget_loc\u001b[0m\u001b[1;33m(\u001b[0m\u001b[0mkey\u001b[0m\u001b[1;33m)\u001b[0m\u001b[1;33m\u001b[0m\u001b[1;33m\u001b[0m\u001b[0m\n\u001b[0m\u001b[0;32m   3506\u001b[0m             \u001b[1;32mif\u001b[0m \u001b[0mis_integer\u001b[0m\u001b[1;33m(\u001b[0m\u001b[0mindexer\u001b[0m\u001b[1;33m)\u001b[0m\u001b[1;33m:\u001b[0m\u001b[1;33m\u001b[0m\u001b[1;33m\u001b[0m\u001b[0m\n\u001b[0;32m   3507\u001b[0m                 \u001b[0mindexer\u001b[0m \u001b[1;33m=\u001b[0m \u001b[1;33m[\u001b[0m\u001b[0mindexer\u001b[0m\u001b[1;33m]\u001b[0m\u001b[1;33m\u001b[0m\u001b[1;33m\u001b[0m\u001b[0m\n",
      "\u001b[1;32m~\\Anaconda3\\lib\\site-packages\\pandas\\core\\indexes\\base.py\u001b[0m in \u001b[0;36mget_loc\u001b[1;34m(self, key, method, tolerance)\u001b[0m\n\u001b[0;32m   3629\u001b[0m                 \u001b[1;32mreturn\u001b[0m \u001b[0mself\u001b[0m\u001b[1;33m.\u001b[0m\u001b[0m_engine\u001b[0m\u001b[1;33m.\u001b[0m\u001b[0mget_loc\u001b[0m\u001b[1;33m(\u001b[0m\u001b[0mcasted_key\u001b[0m\u001b[1;33m)\u001b[0m\u001b[1;33m\u001b[0m\u001b[1;33m\u001b[0m\u001b[0m\n\u001b[0;32m   3630\u001b[0m             \u001b[1;32mexcept\u001b[0m \u001b[0mKeyError\u001b[0m \u001b[1;32mas\u001b[0m \u001b[0merr\u001b[0m\u001b[1;33m:\u001b[0m\u001b[1;33m\u001b[0m\u001b[1;33m\u001b[0m\u001b[0m\n\u001b[1;32m-> 3631\u001b[1;33m                 \u001b[1;32mraise\u001b[0m \u001b[0mKeyError\u001b[0m\u001b[1;33m(\u001b[0m\u001b[0mkey\u001b[0m\u001b[1;33m)\u001b[0m \u001b[1;32mfrom\u001b[0m \u001b[0merr\u001b[0m\u001b[1;33m\u001b[0m\u001b[1;33m\u001b[0m\u001b[0m\n\u001b[0m\u001b[0;32m   3632\u001b[0m             \u001b[1;32mexcept\u001b[0m \u001b[0mTypeError\u001b[0m\u001b[1;33m:\u001b[0m\u001b[1;33m\u001b[0m\u001b[1;33m\u001b[0m\u001b[0m\n\u001b[0;32m   3633\u001b[0m                 \u001b[1;31m# If we have a listlike key, _check_indexing_error will raise\u001b[0m\u001b[1;33m\u001b[0m\u001b[1;33m\u001b[0m\u001b[0m\n",
      "\u001b[1;31mKeyError\u001b[0m: 'Product Description'"
     ]
    }
   ],
   "source": [
    "import pandas as pd\n",
    "from fuzzywuzzy import fuzz, process\n",
    "\n",
    "# Read the data from Excel files\n",
    "data_bank_df = pd.read_excel(\"data bank.xlsx\")\n",
    "import_df = pd.read_excel(\"import.xlsx\")\n",
    "\n",
    "# Task 1: 100% Match\n",
    "task1_results = import_df.merge(data_bank_df, on=\"Product Description\", how=\"inner\")[[\"Brand Name\", \"Model Name\"]]\n",
    "task1_results[\"Match Percentage\"] = 100\n",
    "\n",
    "# Task 2: Up to 90% Match\n",
    "remaining_import_df = import_df[~import_df[\"Product Description\"].isin(task1_results[\"Product Description\"])]\n",
    "\n",
    "# Finding the best match with a similarity score >= 90% for each \"Product Description\"\n",
    "similar_matches = remaining_import_df[\"Product Description\"].apply(lambda desc: process.extractOne(desc, data_bank_df[\"Product Description\"], scorer=fuzz.partial_token_sort_ratio))\n",
    "similar_matches = similar_matches[similar_matches.apply(lambda x: x[1] >= 90)]\n",
    "\n",
    "# Extracting the matching rows from data_bank_df\n",
    "matched_indices = similar_matches.index\n",
    "task2_results = data_bank_df.iloc[similar_matches.apply(lambda x: x[2])][[\"Brand Name\", \"Model Name\"]]\n",
    "\n",
    "# Task 3: Find Brand Name from 'Shipper Name'\n",
    "brand_df = data_bank_df[[\"Brand Name\"]].drop_duplicates(subset=\"Brand Name\")\n",
    "remaining_import_df[\"Brand Name\"] = remaining_import_df[\"Shipper Name\"].apply(lambda shipper: process.extractOne(shipper, brand_df[\"Brand Name\"], scorer=fuzz.partial_token_sort_ratio)[0])\n",
    "\n",
    "# Concatenate the results of all tasks\n",
    "final_results = pd.concat([task1_results, task2_results, remaining_import_df[[\"Brand Name\", \"Model Name\"]]])\n",
    "\n",
    "# Save the final results to a new Excel file\n",
    "final_results.to_excel(\"Final_Results.xlsx\", index=False, engine=\"openpyxl\")\n"
   ]
  },
  {
   "cell_type": "code",
   "execution_count": null,
   "id": "077c1bde",
   "metadata": {},
   "outputs": [],
   "source": []
  }
 ],
 "metadata": {
  "kernelspec": {
   "display_name": "Python 3 (ipykernel)",
   "language": "python",
   "name": "python3"
  },
  "language_info": {
   "codemirror_mode": {
    "name": "ipython",
    "version": 3
   },
   "file_extension": ".py",
   "mimetype": "text/x-python",
   "name": "python",
   "nbconvert_exporter": "python",
   "pygments_lexer": "ipython3",
   "version": "3.9.13"
  }
 },
 "nbformat": 4,
 "nbformat_minor": 5
}
